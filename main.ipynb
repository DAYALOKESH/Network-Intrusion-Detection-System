{
 "cells": [
  {
   "cell_type": "code",
   "id": "initial_id",
   "metadata": {
    "collapsed": true,
    "ExecuteTime": {
     "end_time": "2024-05-21T08:32:54.209219Z",
     "start_time": "2024-05-21T08:32:41.576851Z"
    }
   },
   "source": [
    "import pandas as pd\n",
    "import numpy as np\n",
    "# Get the file from the user's Google Drive\n",
    "file_path = \"E:\\\\NIDS_FINAL\\\\Data\\\\dataset\\\\KDDTrain+.txt\"\n",
    "\n",
    "# Read the file into a Pandas DataFrame\n",
    "df = pd.read_csv(file_path)\n",
    "\n",
    "# Print the DataFrame\n",
    "print(df)\n",
    "import tensorflow as tf\n",
    "import tensorflow.keras as keras"
   ],
   "outputs": [
    {
     "name": "stdout",
     "output_type": "stream",
     "text": [
      "        0  tcp  ftp_data   SF   491   0.1  0.2  0.3  0.4  0.5  ...  0.17  \\\n",
      "0       0  udp     other   SF   146     0    0    0    0    0  ...  0.00   \n",
      "1       0  tcp   private   S0     0     0    0    0    0    0  ...  0.10   \n",
      "2       0  tcp      http   SF   232  8153    0    0    0    0  ...  1.00   \n",
      "3       0  tcp      http   SF   199   420    0    0    0    0  ...  1.00   \n",
      "4       0  tcp   private  REJ     0     0    0    0    0    0  ...  0.07   \n",
      "...    ..  ...       ...  ...   ...   ...  ...  ...  ...  ...  ...   ...   \n",
      "125967  0  tcp   private   S0     0     0    0    0    0    0  ...  0.10   \n",
      "125968  8  udp   private   SF   105   145    0    0    0    0  ...  0.96   \n",
      "125969  0  tcp      smtp   SF  2231   384    0    0    0    0  ...  0.12   \n",
      "125970  0  tcp    klogin   S0     0     0    0    0    0    0  ...  0.03   \n",
      "125971  0  tcp  ftp_data   SF   151     0    0    0    0    0  ...  0.30   \n",
      "\n",
      "        0.03  0.17.1  0.00.6  0.00.7  0.00.8  0.05  0.00.9   normal  20  \n",
      "0       0.60    0.88    0.00    0.00    0.00  0.00    0.00   normal  15  \n",
      "1       0.05    0.00    0.00    1.00    1.00  0.00    0.00  neptune  19  \n",
      "2       0.00    0.03    0.04    0.03    0.01  0.00    0.01   normal  21  \n",
      "3       0.00    0.00    0.00    0.00    0.00  0.00    0.00   normal  21  \n",
      "4       0.07    0.00    0.00    0.00    0.00  1.00    1.00  neptune  21  \n",
      "...      ...     ...     ...     ...     ...   ...     ...      ...  ..  \n",
      "125967  0.06    0.00    0.00    1.00    1.00  0.00    0.00  neptune  20  \n",
      "125968  0.01    0.01    0.00    0.00    0.00  0.00    0.00   normal  21  \n",
      "125969  0.06    0.00    0.00    0.72    0.00  0.01    0.00   normal  18  \n",
      "125970  0.05    0.00    0.00    1.00    1.00  0.00    0.00  neptune  20  \n",
      "125971  0.03    0.30    0.00    0.00    0.00  0.00    0.00   normal  21  \n",
      "\n",
      "[125972 rows x 43 columns]\n"
     ]
    }
   ],
   "execution_count": 1
  },
  {
   "metadata": {
    "ExecuteTime": {
     "end_time": "2024-05-21T08:32:54.213854Z",
     "start_time": "2024-05-21T08:32:54.210229Z"
    }
   },
   "cell_type": "code",
   "source": [
    "columns = (['duration','protocol_type','service','flag','src_bytes','dst_bytes','land','wrong_fragment','urgent','hot'\n",
    "    ,'num_failed_logins','logged_in','num_compromised','root_shell','su_attempted','num_root','num_file_creations'\n",
    "    ,'num_shells','num_access_files','num_outbound_cmds','is_host_login','is_guest_login','count','srv_count','serror_rate'\n",
    "    ,'srv_serror_rate','rerror_rate','srv_rerror_rate','same_srv_rate','diff_srv_rate','srv_diff_host_rate','dst_host_count','dst_host_srv_count'\n",
    "    ,'dst_host_same_srv_rate','dst_host_diff_srv_rate','dst_host_same_src_port_rate','dst_host_srv_diff_host_rate','dst_host_serror_rate'\n",
    "    ,'dst_host_srv_serror_rate','dst_host_rerror_rate','dst_host_srv_rerror_rate','attack','level'])\n",
    "df.columns=columns"
   ],
   "id": "82eef45666e5ebad",
   "outputs": [],
   "execution_count": 2
  },
  {
   "metadata": {
    "ExecuteTime": {
     "end_time": "2024-05-21T08:32:54.223747Z",
     "start_time": "2024-05-21T08:32:54.214865Z"
    }
   },
   "cell_type": "code",
   "source": [
    "def calculate_value_frequencies(df, column):\n",
    "    value_frequencies = df[column].value_counts()\n",
    "    total_samples = df.shape[0]\n",
    "\n",
    "    result_df = pd.DataFrame(columns=['Rank', 'Value', 'Frequency', 'Percentage'])\n",
    "\n",
    "    for rank, (value, frequency) in enumerate(value_frequencies.items(), start=1):\n",
    "        percentage = (frequency / total_samples) * 100\n",
    "        temp_df = pd.DataFrame(data={'Rank': [rank], 'Value': [value], 'Frequency': [frequency], 'Percentage': [percentage]})\n",
    "        result_df = pd.concat([result_df, temp_df], ignore_index=True)\n",
    "\n",
    "    return result_df.set_index('Rank')\n",
    "\n",
    "def plot_histogram(df, column, x=10, y=6):\n",
    "    value_frequencies = calculate_value_frequencies(df, column)\n",
    "    print(value_frequencies)\n",
    "    plt.figure(figsize=(x, y))\n",
    "    plt.bar(value_frequencies['Value'], value_frequencies['Frequency'])\n",
    "    plt.xlabel(column)\n",
    "    plt.ylabel('Frequency')\n",
    "    plt.title(f'Distribution of {column}')\n",
    "\n",
    "    plt.show()"
   ],
   "id": "b335d008336fe9a4",
   "outputs": [],
   "execution_count": 3
  },
  {
   "metadata": {
    "ExecuteTime": {
     "end_time": "2024-05-21T08:32:54.702577Z",
     "start_time": "2024-05-21T08:32:54.224756Z"
    }
   },
   "cell_type": "code",
   "source": [
    "import matplotlib.pyplot as plt\n",
    "plot_histogram(df, 'attack')"
   ],
   "id": "3c61a9196faee0c8",
   "outputs": [
    {
     "name": "stdout",
     "output_type": "stream",
     "text": [
      "                Value Frequency  Percentage\n",
      "Rank                                       \n",
      "1              normal     67342   53.457911\n",
      "2             neptune     41214   32.716794\n",
      "3               satan      3633    2.883974\n",
      "4             ipsweep      3599    2.856984\n",
      "5           portsweep      2931    2.326708\n",
      "6               smurf      2646    2.100467\n",
      "7                nmap      1493    1.185184\n",
      "8                back       956    0.758899\n",
      "9            teardrop       892    0.708094\n",
      "10        warezclient       890    0.706506\n",
      "11                pod       201    0.159559\n",
      "12       guess_passwd        53    0.042073\n",
      "13    buffer_overflow        30    0.023815\n",
      "14        warezmaster        20    0.015877\n",
      "15               land        18    0.014289\n",
      "16               imap        11    0.008732\n",
      "17            rootkit        10    0.007938\n",
      "18         loadmodule         9    0.007144\n",
      "19          ftp_write         8    0.006351\n",
      "20           multihop         7    0.005557\n",
      "21                phf         4    0.003175\n",
      "22               perl         3    0.002381\n",
      "23                spy         2    0.001588\n"
     ]
    },
    {
     "name": "stderr",
     "output_type": "stream",
     "text": [
      "C:\\Users\\dayal\\AppData\\Local\\Temp\\ipykernel_18612\\1979673482.py:10: FutureWarning: The behavior of DataFrame concatenation with empty or all-NA entries is deprecated. In a future version, this will no longer exclude empty or all-NA columns when determining the result dtypes. To retain the old behavior, exclude the relevant entries before the concat operation.\n",
      "  result_df = pd.concat([result_df, temp_df], ignore_index=True)\n"
     ]
    },
    {
     "data": {
      "text/plain": [
       "<Figure size 1000x600 with 1 Axes>"
      ],
      "image/png": "[encoded data removed]"
     },
     "metadata": {},
     "output_type": "display_data"
    }
   ],
   "execution_count": 4
  },
  {
   "metadata": {
    "ExecuteTime": {
     "end_time": "2024-05-21T08:32:55.106482Z",
     "start_time": "2024-05-21T08:32:54.703584Z"
    }
   },
   "cell_type": "code",
   "source": [
    "\n",
    "from sklearn.preprocessing import LabelEncoder\n",
    "\n",
    "le = LabelEncoder()\n",
    "\n",
    "for col in df.select_dtypes(include='object'):\n",
    "    df[col] = le.fit_transform(df[col])\n",
    "\n",
    "print(df)\n"
   ],
   "id": "3cdf0fa5d7211d7e",
   "outputs": [
    {
     "name": "stdout",
     "output_type": "stream",
     "text": [
      "        duration  protocol_type  service  flag  src_bytes  dst_bytes  land  \\\n",
      "0              0              2       44     9        146          0     0   \n",
      "1              0              1       49     5          0          0     0   \n",
      "2              0              1       24     9        232       8153     0   \n",
      "3              0              1       24     9        199        420     0   \n",
      "4              0              1       49     1          0          0     0   \n",
      "...          ...            ...      ...   ...        ...        ...   ...   \n",
      "125967         0              1       49     5          0          0     0   \n",
      "125968         8              2       49     9        105        145     0   \n",
      "125969         0              1       54     9       2231        384     0   \n",
      "125970         0              1       30     5          0          0     0   \n",
      "125971         0              1       20     9        151          0     0   \n",
      "\n",
      "        wrong_fragment  urgent  hot  ...  dst_host_same_srv_rate  \\\n",
      "0                    0       0    0  ...                    0.00   \n",
      "1                    0       0    0  ...                    0.10   \n",
      "2                    0       0    0  ...                    1.00   \n",
      "3                    0       0    0  ...                    1.00   \n",
      "4                    0       0    0  ...                    0.07   \n",
      "...                ...     ...  ...  ...                     ...   \n",
      "125967               0       0    0  ...                    0.10   \n",
      "125968               0       0    0  ...                    0.96   \n",
      "125969               0       0    0  ...                    0.12   \n",
      "125970               0       0    0  ...                    0.03   \n",
      "125971               0       0    0  ...                    0.30   \n",
      "\n",
      "        dst_host_diff_srv_rate  dst_host_same_src_port_rate  \\\n",
      "0                         0.60                         0.88   \n",
      "1                         0.05                         0.00   \n",
      "2                         0.00                         0.03   \n",
      "3                         0.00                         0.00   \n",
      "4                         0.07                         0.00   \n",
      "...                        ...                          ...   \n",
      "125967                    0.06                         0.00   \n",
      "125968                    0.01                         0.01   \n",
      "125969                    0.06                         0.00   \n",
      "125970                    0.05                         0.00   \n",
      "125971                    0.03                         0.30   \n",
      "\n",
      "        dst_host_srv_diff_host_rate  dst_host_serror_rate  \\\n",
      "0                              0.00                  0.00   \n",
      "1                              0.00                  1.00   \n",
      "2                              0.04                  0.03   \n",
      "3                              0.00                  0.00   \n",
      "4                              0.00                  0.00   \n",
      "...                             ...                   ...   \n",
      "125967                         0.00                  1.00   \n",
      "125968                         0.00                  0.00   \n",
      "125969                         0.00                  0.72   \n",
      "125970                         0.00                  1.00   \n",
      "125971                         0.00                  0.00   \n",
      "\n",
      "        dst_host_srv_serror_rate  dst_host_rerror_rate  \\\n",
      "0                           0.00                  0.00   \n",
      "1                           1.00                  0.00   \n",
      "2                           0.01                  0.00   \n",
      "3                           0.00                  0.00   \n",
      "4                           0.00                  1.00   \n",
      "...                          ...                   ...   \n",
      "125967                      1.00                  0.00   \n",
      "125968                      0.00                  0.00   \n",
      "125969                      0.00                  0.01   \n",
      "125970                      1.00                  0.00   \n",
      "125971                      0.00                  0.00   \n",
      "\n",
      "        dst_host_srv_rerror_rate  attack  level  \n",
      "0                           0.00      11     15  \n",
      "1                           0.00       9     19  \n",
      "2                           0.01      11     21  \n",
      "3                           0.00      11     21  \n",
      "4                           1.00       9     21  \n",
      "...                          ...     ...    ...  \n",
      "125967                      0.00       9     20  \n",
      "125968                      0.00      11     21  \n",
      "125969                      0.00      11     18  \n",
      "125970                      0.00       9     20  \n",
      "125971                      0.00      11     21  \n",
      "\n",
      "[125972 rows x 43 columns]\n"
     ]
    }
   ],
   "execution_count": 5
  },
  {
   "metadata": {
    "ExecuteTime": {
     "end_time": "2024-05-21T08:32:55.137327Z",
     "start_time": "2024-05-21T08:32:55.107492Z"
    }
   },
   "cell_type": "code",
   "source": [
    "\n",
    "features = df.drop('attack', axis=1)\n",
    "labels = df['attack']\n",
    "\n",
    "# Convert features and labels to numpy arrays\n",
    "features_np = features.to_numpy()\n",
    "labels_np = labels.to_numpy()\n"
   ],
   "id": "fd51d3a18c06f565",
   "outputs": [],
   "execution_count": 6
  },
  {
   "metadata": {
    "ExecuteTime": {
     "end_time": "2024-05-21T08:32:55.141763Z",
     "start_time": "2024-05-21T08:32:55.138337Z"
    }
   },
   "cell_type": "code",
   "source": "features_np.shape",
   "id": "6e19d8c46912077",
   "outputs": [
    {
     "data": {
      "text/plain": [
       "(125972, 42)"
      ]
     },
     "execution_count": 7,
     "metadata": {},
     "output_type": "execute_result"
    }
   ],
   "execution_count": 7
  },
  {
   "metadata": {
    "ExecuteTime": {
     "end_time": "2024-05-21T08:32:55.250003Z",
     "start_time": "2024-05-21T08:32:55.142774Z"
    }
   },
   "cell_type": "code",
   "source": [
    "\n",
    "from sklearn.model_selection import train_test_split\n",
    "\n",
    "# Split the data into train, test, and validation sets\n",
    "X_train, X_test, y_train, y_test = train_test_split(features_np, labels_np, test_size=0.2, random_state=42)\n",
    "X_train, X_val, y_train, y_val = train_test_split(X_train, y_train, test_size=0.1, random_state=42)\n",
    "\n",
    "print(\"Train data shape:\", X_train.shape)\n",
    "print(\"Train labels shape:\", y_train.shape)\n",
    "print(\"Test data shape:\", X_test.shape)\n",
    "print(\"Test labels shape:\", y_test.shape)\n",
    "print(\"Validation data shape:\", X_val.shape)\n",
    "print(\"Validation labels shape:\", y_val.shape)\n"
   ],
   "id": "e1817cbed7988a54",
   "outputs": [
    {
     "name": "stdout",
     "output_type": "stream",
     "text": [
      "Train data shape: (90699, 42)\n",
      "Train labels shape: (90699,)\n",
      "Test data shape: (25195, 42)\n",
      "Test labels shape: (25195,)\n",
      "Validation data shape: (10078, 42)\n",
      "Validation labels shape: (10078,)\n"
     ]
    }
   ],
   "execution_count": 8
  },
  {
   "metadata": {
    "ExecuteTime": {
     "end_time": "2024-05-21T08:34:10.557974Z",
     "start_time": "2024-05-21T08:32:55.251009Z"
    }
   },
   "cell_type": "code",
   "source": [
    "\n",
    "import numpy as np\n",
    "# Create a CNN model\n",
    "model = keras.Sequential()\n",
    "model.add(keras.layers.Conv1D(filters=features_np.shape[1], kernel_size=3, activation='relu', input_shape=(features_np.shape[1], 1)))\n",
    "model.add(keras.layers.MaxPooling1D(pool_size=2))\n",
    "model.add(keras.layers.Conv1D(filters=64, kernel_size=3, activation='relu'))\n",
    "model.add(keras.layers.MaxPooling1D(pool_size=2))\n",
    "model.add(keras.layers.Flatten())\n",
    "model.add(keras.layers.Dense(128, activation='relu'))\n",
    "model.add(keras.layers.Dense(len(df.attack.unique()), activation='softmax'))\n",
    "\n",
    "# Compile the model\n",
    "model.compile(loss='sparse_categorical_crossentropy', optimizer='adam', metrics=['accuracy'])\n",
    "\n",
    "# Train the model\n",
    "model.fit(X_train, y_train, epochs=10, validation_data=(X_val, y_val))\n",
    "\n",
    "# Evaluate the model on the test set\n",
    "test_loss, test_acc = model.evaluate(X_test, y_test)\n",
    "print('Test loss:', test_loss)\n",
    "print('Test accuracy:', test_acc)\n",
    "\n",
    "# Get the feature importance\n",
    "importance = np.mean(np.abs(model.layers[0].get_weights()[0]), axis=0)\n",
    "importance = importance.T\n",
    "# Sort the features by importance\n",
    "\n",
    "\n",
    "# Print the sorted features\n"
   ],
   "id": "e948d229619001d",
   "outputs": [
    {
     "name": "stdout",
     "output_type": "stream",
     "text": [
      "Epoch 1/10\n"
     ]
    },
    {
     "name": "stderr",
     "output_type": "stream",
     "text": [
      "D:\\python\\Lib\\site-packages\\keras\\src\\layers\\convolutional\\base_conv.py:107: UserWarning: Do not pass an `input_shape`/`input_dim` argument to a layer. When using Sequential models, prefer using an `Input(shape)` object as the first layer in the model instead.\n",
      "  super().__init__(activity_regularizer=activity_regularizer, **kwargs)\n"
     ]
    },
    {
     "name": "stdout",
     "output_type": "stream",
     "text": [
      "\u001B[1m2835/2835\u001B[0m \u001B[32m━━━━━━━━━━━━━━━━━━━━\u001B[0m\u001B[37m\u001B[0m \u001B[1m8s\u001B[0m 3ms/step - accuracy: 0.8534 - loss: 1784.0057 - val_accuracy: 0.9223 - val_loss: 783.3436\n",
      "Epoch 2/10\n",
      "\u001B[1m2835/2835\u001B[0m \u001B[32m━━━━━━━━━━━━━━━━━━━━\u001B[0m\u001B[37m\u001B[0m \u001B[1m7s\u001B[0m 2ms/step - accuracy: 0.8834 - loss: 8009.0254 - val_accuracy: 0.8968 - val_loss: 150.8882\n",
      "Epoch 3/10\n",
      "\u001B[1m2835/2835\u001B[0m \u001B[32m━━━━━━━━━━━━━━━━━━━━\u001B[0m\u001B[37m\u001B[0m \u001B[1m7s\u001B[0m 2ms/step - accuracy: 0.8966 - loss: 695.6146 - val_accuracy: 0.9314 - val_loss: 2102.6201\n",
      "Epoch 4/10\n",
      "\u001B[1m2835/2835\u001B[0m \u001B[32m━━━━━━━━━━━━━━━━━━━━\u001B[0m\u001B[37m\u001B[0m \u001B[1m7s\u001B[0m 3ms/step - accuracy: 0.8754 - loss: 4567.8550 - val_accuracy: 0.8083 - val_loss: 8916.1123\n",
      "Epoch 5/10\n",
      "\u001B[1m2835/2835\u001B[0m \u001B[32m━━━━━━━━━━━━━━━━━━━━\u001B[0m\u001B[37m\u001B[0m \u001B[1m7s\u001B[0m 3ms/step - accuracy: 0.8645 - loss: 3659.9243 - val_accuracy: 0.8883 - val_loss: 1859.8099\n",
      "Epoch 6/10\n",
      "\u001B[1m2835/2835\u001B[0m \u001B[32m━━━━━━━━━━━━━━━━━━━━\u001B[0m\u001B[37m\u001B[0m \u001B[1m7s\u001B[0m 3ms/step - accuracy: 0.8670 - loss: 4282.9155 - val_accuracy: 0.7414 - val_loss: 232.7759\n",
      "Epoch 7/10\n",
      "\u001B[1m2835/2835\u001B[0m \u001B[32m━━━━━━━━━━━━━━━━━━━━\u001B[0m\u001B[37m\u001B[0m \u001B[1m7s\u001B[0m 3ms/step - accuracy: 0.8780 - loss: 3162.9329 - val_accuracy: 0.7678 - val_loss: 9329.6328\n",
      "Epoch 8/10\n",
      "\u001B[1m2835/2835\u001B[0m \u001B[32m━━━━━━━━━━━━━━━━━━━━\u001B[0m\u001B[37m\u001B[0m \u001B[1m7s\u001B[0m 3ms/step - accuracy: 0.8735 - loss: 12005.6377 - val_accuracy: 0.8301 - val_loss: 1489.9106\n",
      "Epoch 9/10\n",
      "\u001B[1m2835/2835\u001B[0m \u001B[32m━━━━━━━━━━━━━━━━━━━━\u001B[0m\u001B[37m\u001B[0m \u001B[1m7s\u001B[0m 3ms/step - accuracy: 0.8697 - loss: 17523.1875 - val_accuracy: 0.9107 - val_loss: 1735.3314\n",
      "Epoch 10/10\n",
      "\u001B[1m2835/2835\u001B[0m \u001B[32m━━━━━━━━━━━━━━━━━━━━\u001B[0m\u001B[37m\u001B[0m \u001B[1m7s\u001B[0m 3ms/step - accuracy: 0.8850 - loss: 7186.4565 - val_accuracy: 0.8283 - val_loss: 3002.6479\n",
      "\u001B[1m788/788\u001B[0m \u001B[32m━━━━━━━━━━━━━━━━━━━━\u001B[0m\u001B[37m\u001B[0m \u001B[1m1s\u001B[0m 1ms/step - accuracy: 0.8232 - loss: 2374.3901\n",
      "Test loss: 3526.466796875\n",
      "Test accuracy: 0.8274657726287842\n"
     ]
    }
   ],
   "execution_count": 9
  },
  {
   "metadata": {
    "ExecuteTime": {
     "end_time": "2024-05-21T08:34:10.562024Z",
     "start_time": "2024-05-21T08:34:10.558981Z"
    }
   },
   "cell_type": "code",
   "source": [
    "print(f\"Shape of features_np: {features_np.shape}\")\n",
    "print(f\"Shape of importance: {importance.shape}\")"
   ],
   "id": "bdbbbeb66b871b64",
   "outputs": [
    {
     "name": "stdout",
     "output_type": "stream",
     "text": [
      "Shape of features_np: (125972, 42)\n",
      "Shape of importance: (42, 1)\n"
     ]
    }
   ],
   "execution_count": 10
  },
  {
   "metadata": {
    "ExecuteTime": {
     "end_time": "2024-05-21T08:34:10.571568Z",
     "start_time": "2024-05-21T08:34:10.562889Z"
    }
   },
   "cell_type": "code",
   "source": "importance.shape",
   "id": "329d1db5b119091b",
   "outputs": [
    {
     "data": {
      "text/plain": [
       "(42, 1)"
      ]
     },
     "execution_count": 11,
     "metadata": {},
     "output_type": "execute_result"
    }
   ],
   "execution_count": 11
  },
  {
   "metadata": {
    "ExecuteTime": {
     "end_time": "2024-05-21T08:34:10.578864Z",
     "start_time": "2024-05-21T08:34:10.571568Z"
    }
   },
   "cell_type": "code",
   "source": [
    "\n",
    "import numpy as np\n",
    "importance_series = pd.Series(importance.ravel())\n",
    "importance_series.index = features.columns\n",
    "threshold = 0.2\n",
    "important_features = importance_series[importance_series > threshold]\n",
    "print(important_features)\n"
   ],
   "id": "35b909421a5d94b5",
   "outputs": [
    {
     "name": "stdout",
     "output_type": "stream",
     "text": [
      "land                        0.249397\n",
      "num_compromised             0.293384\n",
      "root_shell                  0.709124\n",
      "num_file_creations          0.991644\n",
      "num_shells                  0.415793\n",
      "diff_srv_rate               0.770466\n",
      "srv_diff_host_rate          0.388051\n",
      "dst_host_same_srv_rate      0.228348\n",
      "dst_host_srv_rerror_rate    1.510400\n",
      "dtype: float32\n"
     ]
    }
   ],
   "execution_count": 12
  },
  {
   "metadata": {
    "ExecuteTime": {
     "end_time": "2024-05-21T08:34:10.590399Z",
     "start_time": "2024-05-21T08:34:10.579873Z"
    }
   },
   "cell_type": "code",
   "source": [
    "\n",
    "important_features_df = df[important_features.index.tolist()]\n"
   ],
   "id": "db3f5cec79ea30b4",
   "outputs": [],
   "execution_count": 13
  },
  {
   "metadata": {
    "ExecuteTime": {
     "end_time": "2024-05-21T08:34:10.600877Z",
     "start_time": "2024-05-21T08:34:10.592404Z"
    }
   },
   "cell_type": "code",
   "source": "important_features_df.head()",
   "id": "d92eace6dbbbbc10",
   "outputs": [
    {
     "data": {
      "text/plain": [
       "   land  num_compromised  root_shell  num_file_creations  num_shells  \\\n",
       "0     0                0           0                   0           0   \n",
       "1     0                0           0                   0           0   \n",
       "2     0                0           0                   0           0   \n",
       "3     0                0           0                   0           0   \n",
       "4     0                0           0                   0           0   \n",
       "\n",
       "   diff_srv_rate  srv_diff_host_rate  dst_host_same_srv_rate  \\\n",
       "0           0.15                0.00                    0.00   \n",
       "1           0.07                0.00                    0.10   \n",
       "2           0.00                0.00                    1.00   \n",
       "3           0.00                0.09                    1.00   \n",
       "4           0.06                0.00                    0.07   \n",
       "\n",
       "   dst_host_srv_rerror_rate  \n",
       "0                      0.00  \n",
       "1                      0.00  \n",
       "2                      0.01  \n",
       "3                      0.00  \n",
       "4                      1.00  "
      ],
      "text/html": [
       "<div>\n",
       "<style scoped>\n",
       "    .dataframe tbody tr th:only-of-type {\n",
       "        vertical-align: middle;\n",
       "    }\n",
       "\n",
       "    .dataframe tbody tr th {\n",
       "        vertical-align: top;\n",
       "    }\n",
       "\n",
       "    .dataframe thead th {\n",
       "        text-align: right;\n",
       "    }\n",
       "</style>\n",
       "<table border=\"1\" class=\"dataframe\">\n",
       "  <thead>\n",
       "    <tr style=\"text-align: right;\">\n",
       "      <th></th>\n",
       "      <th>land</th>\n",
       "      <th>num_compromised</th>\n",
       "      <th>root_shell</th>\n",
       "      <th>num_file_creations</th>\n",
       "      <th>num_shells</th>\n",
       "      <th>diff_srv_rate</th>\n",
       "      <th>srv_diff_host_rate</th>\n",
       "      <th>dst_host_same_srv_rate</th>\n",
       "      <th>dst_host_srv_rerror_rate</th>\n",
       "    </tr>\n",
       "  </thead>\n",
       "  <tbody>\n",
       "    <tr>\n",
       "      <th>0</th>\n",
       "      <td>0</td>\n",
       "      <td>0</td>\n",
       "      <td>0</td>\n",
       "      <td>0</td>\n",
       "      <td>0</td>\n",
       "      <td>0.15</td>\n",
       "      <td>0.00</td>\n",
       "      <td>0.00</td>\n",
       "      <td>0.00</td>\n",
       "    </tr>\n",
       "    <tr>\n",
       "      <th>1</th>\n",
       "      <td>0</td>\n",
       "      <td>0</td>\n",
       "      <td>0</td>\n",
       "      <td>0</td>\n",
       "      <td>0</td>\n",
       "      <td>0.07</td>\n",
       "      <td>0.00</td>\n",
       "      <td>0.10</td>\n",
       "      <td>0.00</td>\n",
       "    </tr>\n",
       "    <tr>\n",
       "      <th>2</th>\n",
       "      <td>0</td>\n",
       "      <td>0</td>\n",
       "      <td>0</td>\n",
       "      <td>0</td>\n",
       "      <td>0</td>\n",
       "      <td>0.00</td>\n",
       "      <td>0.00</td>\n",
       "      <td>1.00</td>\n",
       "      <td>0.01</td>\n",
       "    </tr>\n",
       "    <tr>\n",
       "      <th>3</th>\n",
       "      <td>0</td>\n",
       "      <td>0</td>\n",
       "      <td>0</td>\n",
       "      <td>0</td>\n",
       "      <td>0</td>\n",
       "      <td>0.00</td>\n",
       "      <td>0.09</td>\n",
       "      <td>1.00</td>\n",
       "      <td>0.00</td>\n",
       "    </tr>\n",
       "    <tr>\n",
       "      <th>4</th>\n",
       "      <td>0</td>\n",
       "      <td>0</td>\n",
       "      <td>0</td>\n",
       "      <td>0</td>\n",
       "      <td>0</td>\n",
       "      <td>0.06</td>\n",
       "      <td>0.00</td>\n",
       "      <td>0.07</td>\n",
       "      <td>1.00</td>\n",
       "    </tr>\n",
       "  </tbody>\n",
       "</table>\n",
       "</div>"
      ]
     },
     "execution_count": 14,
     "metadata": {},
     "output_type": "execute_result"
    }
   ],
   "execution_count": 14
  },
  {
   "metadata": {
    "ExecuteTime": {
     "end_time": "2024-05-21T08:37:33.324346Z",
     "start_time": "2024-05-21T08:34:10.601886Z"
    }
   },
   "cell_type": "code",
   "source": [
    "from sklearn import svm\n",
    "X_train1, X_test1, y_train1, y_test1 = train_test_split(important_features_df, labels, test_size=0.2, random_state=42)\n",
    "\n",
    "# Create a SVM model\n",
    "model1 = svm.SVC()\n",
    "\n",
    "# Train the model\n",
    "model1.fit(X_train1, y_train1)\n",
    "\n",
    "# Evaluate the model on the test set\n",
    "test_accuracy = model1.score(X_test1, y_test1)\n",
    "print(\"Test accuracy:\", test_accuracy)"
   ],
   "id": "dc1951158c370b53",
   "outputs": [
    {
     "name": "stdout",
     "output_type": "stream",
     "text": [
      "Test accuracy: 0.7971422901369319\n"
     ]
    }
   ],
   "execution_count": 15
  },
  {
   "metadata": {
    "ExecuteTime": {
     "end_time": "2024-05-21T08:37:37.192865Z",
     "start_time": "2024-05-21T08:37:33.325355Z"
    }
   },
   "cell_type": "code",
   "source": [
    "from sklearn.ensemble import RandomForestClassifier\n",
    "\n",
    "model2 = RandomForestClassifier()\n",
    "model2.fit(X_train1, y_train1)"
   ],
   "id": "c902f568de7aa198",
   "outputs": [
    {
     "data": {
      "text/plain": [
       "RandomForestClassifier()"
      ],
      "text/html": [
       "<style>#sk-container-id-1 {\n",
       "  /* Definition of color scheme common for light and dark mode */\n",
       "  --sklearn-color-text: black;\n",
       "  --sklearn-color-line: gray;\n",
       "  /* Definition of color scheme for unfitted estimators */\n",
       "  --sklearn-color-unfitted-level-0: #fff5e6;\n",
       "  --sklearn-color-unfitted-level-1: #f6e4d2;\n",
       "  --sklearn-color-unfitted-level-2: #ffe0b3;\n",
       "  --sklearn-color-unfitted-level-3: chocolate;\n",
       "  /* Definition of color scheme for fitted estimators */\n",
       "  --sklearn-color-fitted-level-0: #f0f8ff;\n",
       "  --sklearn-color-fitted-level-1: #d4ebff;\n",
       "  --sklearn-color-fitted-level-2: #b3dbfd;\n",
       "  --sklearn-color-fitted-level-3: cornflowerblue;\n",
       "\n",
       "  /* Specific color for light theme */\n",
       "  --sklearn-color-text-on-default-background: var(--sg-text-color, var(--theme-code-foreground, var(--jp-content-font-color1, black)));\n",
       "  --sklearn-color-background: var(--sg-background-color, var(--theme-background, var(--jp-layout-color0, white)));\n",
       "  --sklearn-color-border-box: var(--sg-text-color, var(--theme-code-foreground, var(--jp-content-font-color1, black)));\n",
       "  --sklearn-color-icon: #696969;\n",
       "\n",
       "  @media (prefers-color-scheme: dark) {\n",
       "    /* Redefinition of color scheme for dark theme */\n",
       "    --sklearn-color-text-on-default-background: var(--sg-text-color, var(--theme-code-foreground, var(--jp-content-font-color1, white)));\n",
       "    --sklearn-color-background: var(--sg-background-color, var(--theme-background, var(--jp-layout-color0, #111)));\n",
       "    --sklearn-color-border-box: var(--sg-text-color, var(--theme-code-foreground, var(--jp-content-font-color1, white)));\n",
       "    --sklearn-color-icon: #878787;\n",
       "  }\n",
       "}\n",
       "\n",
       "#sk-container-id-1 {\n",
       "  color: var(--sklearn-color-text);\n",
       "}\n",
       "\n",
       "#sk-container-id-1 pre {\n",
       "  padding: 0;\n",
       "}\n",
       "\n",
       "#sk-container-id-1 input.sk-hidden--visually {\n",
       "  border: 0;\n",
       "  clip: rect(1px 1px 1px 1px);\n",
       "  clip: rect(1px, 1px, 1px, 1px);\n",
       "  height: 1px;\n",
       "  margin: -1px;\n",
       "  overflow: hidden;\n",
       "  padding: 0;\n",
       "  position: absolute;\n",
       "  width: 1px;\n",
       "}\n",
       "\n",
       "#sk-container-id-1 div.sk-dashed-wrapped {\n",
       "  border: 1px dashed var(--sklearn-color-line);\n",
       "  margin: 0 0.4em 0.5em 0.4em;\n",
       "  box-sizing: border-box;\n",
       "  padding-bottom: 0.4em;\n",
       "  background-color: var(--sklearn-color-background);\n",
       "}\n",
       "\n",
       "#sk-container-id-1 div.sk-container {\n",
       "  /* jupyter's `normalize.less` sets `[hidden] { display: none; }`\n",
       "     but bootstrap.min.css set `[hidden] { display: none !important; }`\n",
       "     so we also need the `!important` here to be able to override the\n",
       "     default hidden behavior on the sphinx rendered scikit-learn.org.\n",
       "     See: https://github.com/scikit-learn/scikit-learn/issues/21755 */\n",
       "  display: inline-block !important;\n",
       "  position: relative;\n",
       "}\n",
       "\n",
       "#sk-container-id-1 div.sk-text-repr-fallback {\n",
       "  display: none;\n",
       "}\n",
       "\n",
       "div.sk-parallel-item,\n",
       "div.sk-serial,\n",
       "div.sk-item {\n",
       "  /* draw centered vertical line to link estimators */\n",
       "  background-image: linear-gradient(var(--sklearn-color-text-on-default-background), var(--sklearn-color-text-on-default-background));\n",
       "  background-size: 2px 100%;\n",
       "  background-repeat: no-repeat;\n",
       "  background-position: center center;\n",
       "}\n",
       "\n",
       "/* Parallel-specific style estimator block */\n",
       "\n",
       "#sk-container-id-1 div.sk-parallel-item::after {\n",
       "  content: \"\";\n",
       "  width: 100%;\n",
       "  border-bottom: 2px solid var(--sklearn-color-text-on-default-background);\n",
       "  flex-grow: 1;\n",
       "}\n",
       "\n",
       "#sk-container-id-1 div.sk-parallel {\n",
       "  display: flex;\n",
       "  align-items: stretch;\n",
       "  justify-content: center;\n",
       "  background-color: var(--sklearn-color-background);\n",
       "  position: relative;\n",
       "}\n",
       "\n",
       "#sk-container-id-1 div.sk-parallel-item {\n",
       "  display: flex;\n",
       "  flex-direction: column;\n",
       "}\n",
       "\n",
       "#sk-container-id-1 div.sk-parallel-item:first-child::after {\n",
       "  align-self: flex-end;\n",
       "  width: 50%;\n",
       "}\n",
       "\n",
       "#sk-container-id-1 div.sk-parallel-item:last-child::after {\n",
       "  align-self: flex-start;\n",
       "  width: 50%;\n",
       "}\n",
       "\n",
       "#sk-container-id-1 div.sk-parallel-item:only-child::after {\n",
       "  width: 0;\n",
       "}\n",
       "\n",
       "/* Serial-specific style estimator block */\n",
       "\n",
       "#sk-container-id-1 div.sk-serial {\n",
       "  display: flex;\n",
       "  flex-direction: column;\n",
       "  align-items: center;\n",
       "  background-color: var(--sklearn-color-background);\n",
       "  padding-right: 1em;\n",
       "  padding-left: 1em;\n",
       "}\n",
       "\n",
       "\n",
       "/* Toggleable style: style used for estimator/Pipeline/ColumnTransformer box that is\n",
       "clickable and can be expanded/collapsed.\n",
       "- Pipeline and ColumnTransformer use this feature and define the default style\n",
       "- Estimators will overwrite some part of the style using the `sk-estimator` class\n",
       "*/\n",
       "\n",
       "/* Pipeline and ColumnTransformer style (default) */\n",
       "\n",
       "#sk-container-id-1 div.sk-toggleable {\n",
       "  /* Default theme specific background. It is overwritten whether we have a\n",
       "  specific estimator or a Pipeline/ColumnTransformer */\n",
       "  background-color: var(--sklearn-color-background);\n",
       "}\n",
       "\n",
       "/* Toggleable label */\n",
       "#sk-container-id-1 label.sk-toggleable__label {\n",
       "  cursor: pointer;\n",
       "  display: block;\n",
       "  width: 100%;\n",
       "  margin-bottom: 0;\n",
       "  padding: 0.5em;\n",
       "  box-sizing: border-box;\n",
       "  text-align: center;\n",
       "}\n",
       "\n",
       "#sk-container-id-1 label.sk-toggleable__label-arrow:before {\n",
       "  /* Arrow on the left of the label */\n",
       "  content: \"▸\";\n",
       "  float: left;\n",
       "  margin-right: 0.25em;\n",
       "  color: var(--sklearn-color-icon);\n",
       "}\n",
       "\n",
       "#sk-container-id-1 label.sk-toggleable__label-arrow:hover:before {\n",
       "  color: var(--sklearn-color-text);\n",
       "}\n",
       "\n",
       "/* Toggleable content - dropdown */\n",
       "\n",
       "#sk-container-id-1 div.sk-toggleable__content {\n",
       "  max-height: 0;\n",
       "  max-width: 0;\n",
       "  overflow: hidden;\n",
       "  text-align: left;\n",
       "  /* unfitted */\n",
       "  background-color: var(--sklearn-color-unfitted-level-0);\n",
       "}\n",
       "\n",
       "#sk-container-id-1 div.sk-toggleable__content.fitted {\n",
       "  /* fitted */\n",
       "  background-color: var(--sklearn-color-fitted-level-0);\n",
       "}\n",
       "\n",
       "#sk-container-id-1 div.sk-toggleable__content pre {\n",
       "  margin: 0.2em;\n",
       "  border-radius: 0.25em;\n",
       "  color: var(--sklearn-color-text);\n",
       "  /* unfitted */\n",
       "  background-color: var(--sklearn-color-unfitted-level-0);\n",
       "}\n",
       "\n",
       "#sk-container-id-1 div.sk-toggleable__content.fitted pre {\n",
       "  /* unfitted */\n",
       "  background-color: var(--sklearn-color-fitted-level-0);\n",
       "}\n",
       "\n",
       "#sk-container-id-1 input.sk-toggleable__control:checked~div.sk-toggleable__content {\n",
       "  /* Expand drop-down */\n",
       "  max-height: 200px;\n",
       "  max-width: 100%;\n",
       "  overflow: auto;\n",
       "}\n",
       "\n",
       "#sk-container-id-1 input.sk-toggleable__control:checked~label.sk-toggleable__label-arrow:before {\n",
       "  content: \"▾\";\n",
       "}\n",
       "\n",
       "/* Pipeline/ColumnTransformer-specific style */\n",
       "\n",
       "#sk-container-id-1 div.sk-label input.sk-toggleable__control:checked~label.sk-toggleable__label {\n",
       "  color: var(--sklearn-color-text);\n",
       "  background-color: var(--sklearn-color-unfitted-level-2);\n",
       "}\n",
       "\n",
       "#sk-container-id-1 div.sk-label.fitted input.sk-toggleable__control:checked~label.sk-toggleable__label {\n",
       "  background-color: var(--sklearn-color-fitted-level-2);\n",
       "}\n",
       "\n",
       "/* Estimator-specific style */\n",
       "\n",
       "/* Colorize estimator box */\n",
       "#sk-container-id-1 div.sk-estimator input.sk-toggleable__control:checked~label.sk-toggleable__label {\n",
       "  /* unfitted */\n",
       "  background-color: var(--sklearn-color-unfitted-level-2);\n",
       "}\n",
       "\n",
       "#sk-container-id-1 div.sk-estimator.fitted input.sk-toggleable__control:checked~label.sk-toggleable__label {\n",
       "  /* fitted */\n",
       "  background-color: var(--sklearn-color-fitted-level-2);\n",
       "}\n",
       "\n",
       "#sk-container-id-1 div.sk-label label.sk-toggleable__label,\n",
       "#sk-container-id-1 div.sk-label label {\n",
       "  /* The background is the default theme color */\n",
       "  color: var(--sklearn-color-text-on-default-background);\n",
       "}\n",
       "\n",
       "/* On hover, darken the color of the background */\n",
       "#sk-container-id-1 div.sk-label:hover label.sk-toggleable__label {\n",
       "  color: var(--sklearn-color-text);\n",
       "  background-color: var(--sklearn-color-unfitted-level-2);\n",
       "}\n",
       "\n",
       "/* Label box, darken color on hover, fitted */\n",
       "#sk-container-id-1 div.sk-label.fitted:hover label.sk-toggleable__label.fitted {\n",
       "  color: var(--sklearn-color-text);\n",
       "  background-color: var(--sklearn-color-fitted-level-2);\n",
       "}\n",
       "\n",
       "/* Estimator label */\n",
       "\n",
       "#sk-container-id-1 div.sk-label label {\n",
       "  font-family: monospace;\n",
       "  font-weight: bold;\n",
       "  display: inline-block;\n",
       "  line-height: 1.2em;\n",
       "}\n",
       "\n",
       "#sk-container-id-1 div.sk-label-container {\n",
       "  text-align: center;\n",
       "}\n",
       "\n",
       "/* Estimator-specific */\n",
       "#sk-container-id-1 div.sk-estimator {\n",
       "  font-family: monospace;\n",
       "  border: 1px dotted var(--sklearn-color-border-box);\n",
       "  border-radius: 0.25em;\n",
       "  box-sizing: border-box;\n",
       "  margin-bottom: 0.5em;\n",
       "  /* unfitted */\n",
       "  background-color: var(--sklearn-color-unfitted-level-0);\n",
       "}\n",
       "\n",
       "#sk-container-id-1 div.sk-estimator.fitted {\n",
       "  /* fitted */\n",
       "  background-color: var(--sklearn-color-fitted-level-0);\n",
       "}\n",
       "\n",
       "/* on hover */\n",
       "#sk-container-id-1 div.sk-estimator:hover {\n",
       "  /* unfitted */\n",
       "  background-color: var(--sklearn-color-unfitted-level-2);\n",
       "}\n",
       "\n",
       "#sk-container-id-1 div.sk-estimator.fitted:hover {\n",
       "  /* fitted */\n",
       "  background-color: var(--sklearn-color-fitted-level-2);\n",
       "}\n",
       "\n",
       "/* Specification for estimator info (e.g. \"i\" and \"?\") */\n",
       "\n",
       "/* Common style for \"i\" and \"?\" */\n",
       "\n",
       ".sk-estimator-doc-link,\n",
       "a:link.sk-estimator-doc-link,\n",
       "a:visited.sk-estimator-doc-link {\n",
       "  float: right;\n",
       "  font-size: smaller;\n",
       "  line-height: 1em;\n",
       "  font-family: monospace;\n",
       "  background-color: var(--sklearn-color-background);\n",
       "  border-radius: 1em;\n",
       "  height: 1em;\n",
       "  width: 1em;\n",
       "  text-decoration: none !important;\n",
       "  margin-left: 1ex;\n",
       "  /* unfitted */\n",
       "  border: var(--sklearn-color-unfitted-level-1) 1pt solid;\n",
       "  color: var(--sklearn-color-unfitted-level-1);\n",
       "}\n",
       "\n",
       ".sk-estimator-doc-link.fitted,\n",
       "a:link.sk-estimator-doc-link.fitted,\n",
       "a:visited.sk-estimator-doc-link.fitted {\n",
       "  /* fitted */\n",
       "  border: var(--sklearn-color-fitted-level-1) 1pt solid;\n",
       "  color: var(--sklearn-color-fitted-level-1);\n",
       "}\n",
       "\n",
       "/* On hover */\n",
       "div.sk-estimator:hover .sk-estimator-doc-link:hover,\n",
       ".sk-estimator-doc-link:hover,\n",
       "div.sk-label-container:hover .sk-estimator-doc-link:hover,\n",
       ".sk-estimator-doc-link:hover {\n",
       "  /* unfitted */\n",
       "  background-color: var(--sklearn-color-unfitted-level-3);\n",
       "  color: var(--sklearn-color-background);\n",
       "  text-decoration: none;\n",
       "}\n",
       "\n",
       "div.sk-estimator.fitted:hover .sk-estimator-doc-link.fitted:hover,\n",
       ".sk-estimator-doc-link.fitted:hover,\n",
       "div.sk-label-container:hover .sk-estimator-doc-link.fitted:hover,\n",
       ".sk-estimator-doc-link.fitted:hover {\n",
       "  /* fitted */\n",
       "  background-color: var(--sklearn-color-fitted-level-3);\n",
       "  color: var(--sklearn-color-background);\n",
       "  text-decoration: none;\n",
       "}\n",
       "\n",
       "/* Span, style for the box shown on hovering the info icon */\n",
       ".sk-estimator-doc-link span {\n",
       "  display: none;\n",
       "  z-index: 9999;\n",
       "  position: relative;\n",
       "  font-weight: normal;\n",
       "  right: .2ex;\n",
       "  padding: .5ex;\n",
       "  margin: .5ex;\n",
       "  width: min-content;\n",
       "  min-width: 20ex;\n",
       "  max-width: 50ex;\n",
       "  color: var(--sklearn-color-text);\n",
       "  box-shadow: 2pt 2pt 4pt #999;\n",
       "  /* unfitted */\n",
       "  background: var(--sklearn-color-unfitted-level-0);\n",
       "  border: .5pt solid var(--sklearn-color-unfitted-level-3);\n",
       "}\n",
       "\n",
       ".sk-estimator-doc-link.fitted span {\n",
       "  /* fitted */\n",
       "  background: var(--sklearn-color-fitted-level-0);\n",
       "  border: var(--sklearn-color-fitted-level-3);\n",
       "}\n",
       "\n",
       ".sk-estimator-doc-link:hover span {\n",
       "  display: block;\n",
       "}\n",
       "\n",
       "/* \"?\"-specific style due to the `<a>` HTML tag */\n",
       "\n",
       "#sk-container-id-1 a.estimator_doc_link {\n",
       "  float: right;\n",
       "  font-size: 1rem;\n",
       "  line-height: 1em;\n",
       "  font-family: monospace;\n",
       "  background-color: var(--sklearn-color-background);\n",
       "  border-radius: 1rem;\n",
       "  height: 1rem;\n",
       "  width: 1rem;\n",
       "  text-decoration: none;\n",
       "  /* unfitted */\n",
       "  color: var(--sklearn-color-unfitted-level-1);\n",
       "  border: var(--sklearn-color-unfitted-level-1) 1pt solid;\n",
       "}\n",
       "\n",
       "#sk-container-id-1 a.estimator_doc_link.fitted {\n",
       "  /* fitted */\n",
       "  border: var(--sklearn-color-fitted-level-1) 1pt solid;\n",
       "  color: var(--sklearn-color-fitted-level-1);\n",
       "}\n",
       "\n",
       "/* On hover */\n",
       "#sk-container-id-1 a.estimator_doc_link:hover {\n",
       "  /* unfitted */\n",
       "  background-color: var(--sklearn-color-unfitted-level-3);\n",
       "  color: var(--sklearn-color-background);\n",
       "  text-decoration: none;\n",
       "}\n",
       "\n",
       "#sk-container-id-1 a.estimator_doc_link.fitted:hover {\n",
       "  /* fitted */\n",
       "  background-color: var(--sklearn-color-fitted-level-3);\n",
       "}\n",
       "</style><div id=\"sk-container-id-1\" class=\"sk-top-container\"><div class=\"sk-text-repr-fallback\"><pre>RandomForestClassifier()</pre><b>In a Jupyter environment, please rerun this cell to show the HTML representation or trust the notebook. <br />On GitHub, the HTML representation is unable to render, please try loading this page with nbviewer.org.</b></div><div class=\"sk-container\" hidden><div class=\"sk-item\"><div class=\"sk-estimator fitted sk-toggleable\"><input class=\"sk-toggleable__control sk-hidden--visually\" id=\"sk-estimator-id-1\" type=\"checkbox\" checked><label for=\"sk-estimator-id-1\" class=\"sk-toggleable__label fitted sk-toggleable__label-arrow fitted\">&nbsp;&nbsp;RandomForestClassifier<a class=\"sk-estimator-doc-link fitted\" rel=\"noreferrer\" target=\"_blank\" href=\"https://scikit-learn.org/1.4/modules/generated/sklearn.ensemble.RandomForestClassifier.html\">?<span>Documentation for RandomForestClassifier</span></a><span class=\"sk-estimator-doc-link fitted\">i<span>Fitted</span></span></label><div class=\"sk-toggleable__content fitted\"><pre>RandomForestClassifier()</pre></div> </div></div></div></div>"
      ]
     },
     "execution_count": 16,
     "metadata": {},
     "output_type": "execute_result"
    }
   ],
   "execution_count": 16
  },
  {
   "metadata": {
    "ExecuteTime": {
     "end_time": "2024-05-21T08:37:37.566599Z",
     "start_time": "2024-05-21T08:37:37.193873Z"
    }
   },
   "cell_type": "code",
   "source": [
    "from sklearn.metrics import accuracy_score\n",
    "y_pred = model2.predict(X_test1)\n",
    "accuracy = accuracy_score(y_test, y_pred)\n",
    "print(accuracy)\n"
   ],
   "id": "3cb43f6eb96a65f1",
   "outputs": [
    {
     "name": "stdout",
     "output_type": "stream",
     "text": [
      "0.9123238737844811\n"
     ]
    }
   ],
   "execution_count": 17
  },
  {
   "metadata": {
    "ExecuteTime": {
     "end_time": "2024-05-21T08:41:05.054266Z",
     "start_time": "2024-05-21T08:37:37.567607Z"
    }
   },
   "cell_type": "code",
   "source": [
    "\n",
    "from sklearn.ensemble import VotingClassifier\n",
    "\n",
    "estimators=[('svm', model1),('rf', model2)]\n",
    "ensemble = VotingClassifier(estimators)\n",
    "ensemble.fit(X_train1, y_train1)\n",
    "y_pred2 = ensemble.predict(X_test1)\n",
    "accuracy = accuracy_score(y_test1, y_pred2)\n",
    "print(accuracy)\n"
   ],
   "id": "d3e222e8f8a2d0ae",
   "outputs": [
    {
     "name": "stdout",
     "output_type": "stream",
     "text": [
      "0.8240920817622545\n"
     ]
    }
   ],
   "execution_count": 18
  },
  {
   "metadata": {
    "ExecuteTime": {
     "end_time": "2024-05-21T08:41:05.058048Z",
     "start_time": "2024-05-21T08:41:05.055276Z"
    }
   },
   "cell_type": "code",
   "source": [
    "from sklearn.ensemble import BaggingClassifier\n",
    "bagging=BaggingClassifier()"
   ],
   "id": "1680669b59d9c63e",
   "outputs": [],
   "execution_count": 19
  },
  {
   "metadata": {
    "ExecuteTime": {
     "end_time": "2024-05-21T08:41:05.067749Z",
     "start_time": "2024-05-21T08:41:05.059060Z"
    }
   },
   "cell_type": "code",
   "source": "inv=le.inverse_transform(y_pred)",
   "id": "e4f79fb7263b64ef",
   "outputs": [],
   "execution_count": 20
  },
  {
   "metadata": {
    "ExecuteTime": {
     "end_time": "2024-05-21T08:41:05.075337Z",
     "start_time": "2024-05-21T08:41:05.068762Z"
    }
   },
   "cell_type": "code",
   "source": "inv",
   "id": "f2dd290c504191d7",
   "outputs": [
    {
     "data": {
      "text/plain": [
       "array(['neptune', 'ipsweep', 'normal', ..., 'normal', 'neptune',\n",
       "       'neptune'], dtype=object)"
      ]
     },
     "execution_count": 21,
     "metadata": {},
     "output_type": "execute_result"
    }
   ],
   "execution_count": 21
  },
  {
   "metadata": {
    "ExecuteTime": {
     "end_time": "2024-05-21T08:41:05.089460Z",
     "start_time": "2024-05-21T08:41:05.075337Z"
    }
   },
   "cell_type": "code",
   "source": "df.head()",
   "id": "10082841216699d4",
   "outputs": [
    {
     "data": {
      "text/plain": [
       "   duration  protocol_type  service  flag  src_bytes  dst_bytes  land  \\\n",
       "0         0              2       44     9        146          0     0   \n",
       "1         0              1       49     5          0          0     0   \n",
       "2         0              1       24     9        232       8153     0   \n",
       "3         0              1       24     9        199        420     0   \n",
       "4         0              1       49     1          0          0     0   \n",
       "\n",
       "   wrong_fragment  urgent  hot  ...  dst_host_same_srv_rate  \\\n",
       "0               0       0    0  ...                    0.00   \n",
       "1               0       0    0  ...                    0.10   \n",
       "2               0       0    0  ...                    1.00   \n",
       "3               0       0    0  ...                    1.00   \n",
       "4               0       0    0  ...                    0.07   \n",
       "\n",
       "   dst_host_diff_srv_rate  dst_host_same_src_port_rate  \\\n",
       "0                    0.60                         0.88   \n",
       "1                    0.05                         0.00   \n",
       "2                    0.00                         0.03   \n",
       "3                    0.00                         0.00   \n",
       "4                    0.07                         0.00   \n",
       "\n",
       "   dst_host_srv_diff_host_rate  dst_host_serror_rate  \\\n",
       "0                         0.00                  0.00   \n",
       "1                         0.00                  1.00   \n",
       "2                         0.04                  0.03   \n",
       "3                         0.00                  0.00   \n",
       "4                         0.00                  0.00   \n",
       "\n",
       "   dst_host_srv_serror_rate  dst_host_rerror_rate  dst_host_srv_rerror_rate  \\\n",
       "0                      0.00                   0.0                      0.00   \n",
       "1                      1.00                   0.0                      0.00   \n",
       "2                      0.01                   0.0                      0.01   \n",
       "3                      0.00                   0.0                      0.00   \n",
       "4                      0.00                   1.0                      1.00   \n",
       "\n",
       "   attack  level  \n",
       "0      11     15  \n",
       "1       9     19  \n",
       "2      11     21  \n",
       "3      11     21  \n",
       "4       9     21  \n",
       "\n",
       "[5 rows x 43 columns]"
      ],
      "text/html": [
       "<div>\n",
       "<style scoped>\n",
       "    .dataframe tbody tr th:only-of-type {\n",
       "        vertical-align: middle;\n",
       "    }\n",
       "\n",
       "    .dataframe tbody tr th {\n",
       "        vertical-align: top;\n",
       "    }\n",
       "\n",
       "    .dataframe thead th {\n",
       "        text-align: right;\n",
       "    }\n",
       "</style>\n",
       "<table border=\"1\" class=\"dataframe\">\n",
       "  <thead>\n",
       "    <tr style=\"text-align: right;\">\n",
       "      <th></th>\n",
       "      <th>duration</th>\n",
       "      <th>protocol_type</th>\n",
       "      <th>service</th>\n",
       "      <th>flag</th>\n",
       "      <th>src_bytes</th>\n",
       "      <th>dst_bytes</th>\n",
       "      <th>land</th>\n",
       "      <th>wrong_fragment</th>\n",
       "      <th>urgent</th>\n",
       "      <th>hot</th>\n",
       "      <th>...</th>\n",
       "      <th>dst_host_same_srv_rate</th>\n",
       "      <th>dst_host_diff_srv_rate</th>\n",
       "      <th>dst_host_same_src_port_rate</th>\n",
       "      <th>dst_host_srv_diff_host_rate</th>\n",
       "      <th>dst_host_serror_rate</th>\n",
       "      <th>dst_host_srv_serror_rate</th>\n",
       "      <th>dst_host_rerror_rate</th>\n",
       "      <th>dst_host_srv_rerror_rate</th>\n",
       "      <th>attack</th>\n",
       "      <th>level</th>\n",
       "    </tr>\n",
       "  </thead>\n",
       "  <tbody>\n",
       "    <tr>\n",
       "      <th>0</th>\n",
       "      <td>0</td>\n",
       "      <td>2</td>\n",
       "      <td>44</td>\n",
       "      <td>9</td>\n",
       "      <td>146</td>\n",
       "      <td>0</td>\n",
       "      <td>0</td>\n",
       "      <td>0</td>\n",
       "      <td>0</td>\n",
       "      <td>0</td>\n",
       "      <td>...</td>\n",
       "      <td>0.00</td>\n",
       "      <td>0.60</td>\n",
       "      <td>0.88</td>\n",
       "      <td>0.00</td>\n",
       "      <td>0.00</td>\n",
       "      <td>0.00</td>\n",
       "      <td>0.0</td>\n",
       "      <td>0.00</td>\n",
       "      <td>11</td>\n",
       "      <td>15</td>\n",
       "    </tr>\n",
       "    <tr>\n",
       "      <th>1</th>\n",
       "      <td>0</td>\n",
       "      <td>1</td>\n",
       "      <td>49</td>\n",
       "      <td>5</td>\n",
       "      <td>0</td>\n",
       "      <td>0</td>\n",
       "      <td>0</td>\n",
       "      <td>0</td>\n",
       "      <td>0</td>\n",
       "      <td>0</td>\n",
       "      <td>...</td>\n",
       "      <td>0.10</td>\n",
       "      <td>0.05</td>\n",
       "      <td>0.00</td>\n",
       "      <td>0.00</td>\n",
       "      <td>1.00</td>\n",
       "      <td>1.00</td>\n",
       "      <td>0.0</td>\n",
       "      <td>0.00</td>\n",
       "      <td>9</td>\n",
       "      <td>19</td>\n",
       "    </tr>\n",
       "    <tr>\n",
       "      <th>2</th>\n",
       "      <td>0</td>\n",
       "      <td>1</td>\n",
       "      <td>24</td>\n",
       "      <td>9</td>\n",
       "      <td>232</td>\n",
       "      <td>8153</td>\n",
       "      <td>0</td>\n",
       "      <td>0</td>\n",
       "      <td>0</td>\n",
       "      <td>0</td>\n",
       "      <td>...</td>\n",
       "      <td>1.00</td>\n",
       "      <td>0.00</td>\n",
       "      <td>0.03</td>\n",
       "      <td>0.04</td>\n",
       "      <td>0.03</td>\n",
       "      <td>0.01</td>\n",
       "      <td>0.0</td>\n",
       "      <td>0.01</td>\n",
       "      <td>11</td>\n",
       "      <td>21</td>\n",
       "    </tr>\n",
       "    <tr>\n",
       "      <th>3</th>\n",
       "      <td>0</td>\n",
       "      <td>1</td>\n",
       "      <td>24</td>\n",
       "      <td>9</td>\n",
       "      <td>199</td>\n",
       "      <td>420</td>\n",
       "      <td>0</td>\n",
       "      <td>0</td>\n",
       "      <td>0</td>\n",
       "      <td>0</td>\n",
       "      <td>...</td>\n",
       "      <td>1.00</td>\n",
       "      <td>0.00</td>\n",
       "      <td>0.00</td>\n",
       "      <td>0.00</td>\n",
       "      <td>0.00</td>\n",
       "      <td>0.00</td>\n",
       "      <td>0.0</td>\n",
       "      <td>0.00</td>\n",
       "      <td>11</td>\n",
       "      <td>21</td>\n",
       "    </tr>\n",
       "    <tr>\n",
       "      <th>4</th>\n",
       "      <td>0</td>\n",
       "      <td>1</td>\n",
       "      <td>49</td>\n",
       "      <td>1</td>\n",
       "      <td>0</td>\n",
       "      <td>0</td>\n",
       "      <td>0</td>\n",
       "      <td>0</td>\n",
       "      <td>0</td>\n",
       "      <td>0</td>\n",
       "      <td>...</td>\n",
       "      <td>0.07</td>\n",
       "      <td>0.07</td>\n",
       "      <td>0.00</td>\n",
       "      <td>0.00</td>\n",
       "      <td>0.00</td>\n",
       "      <td>0.00</td>\n",
       "      <td>1.0</td>\n",
       "      <td>1.00</td>\n",
       "      <td>9</td>\n",
       "      <td>21</td>\n",
       "    </tr>\n",
       "  </tbody>\n",
       "</table>\n",
       "<p>5 rows × 43 columns</p>\n",
       "</div>"
      ]
     },
     "execution_count": 22,
     "metadata": {},
     "output_type": "execute_result"
    }
   ],
   "execution_count": 22
  },
  {
   "metadata": {
    "ExecuteTime": {
     "end_time": "2024-05-21T08:41:05.093897Z",
     "start_time": "2024-05-21T08:41:05.089460Z"
    }
   },
   "cell_type": "code",
   "source": "name=important_features_df.columns",
   "id": "2509ff2ec010154f",
   "outputs": [],
   "execution_count": 23
  },
  {
   "metadata": {
    "ExecuteTime": {
     "end_time": "2024-05-21T08:41:05.100813Z",
     "start_time": "2024-05-21T08:41:05.094908Z"
    }
   },
   "cell_type": "code",
   "source": "name=name.tolist()",
   "id": "6907fd7caa9f34d3",
   "outputs": [],
   "execution_count": 24
  },
  {
   "metadata": {
    "ExecuteTime": {
     "end_time": "2024-05-21T08:41:05.107067Z",
     "start_time": "2024-05-21T08:41:05.101819Z"
    }
   },
   "cell_type": "code",
   "source": "name",
   "id": "cac1c7f7a360ec12",
   "outputs": [
    {
     "data": {
      "text/plain": [
       "['land',\n",
       " 'num_compromised',\n",
       " 'root_shell',\n",
       " 'num_file_creations',\n",
       " 'num_shells',\n",
       " 'diff_srv_rate',\n",
       " 'srv_diff_host_rate',\n",
       " 'dst_host_same_srv_rate',\n",
       " 'dst_host_srv_rerror_rate']"
      ]
     },
     "execution_count": 25,
     "metadata": {},
     "output_type": "execute_result"
    }
   ],
   "execution_count": 25
  },
  {
   "metadata": {
    "ExecuteTime": {
     "end_time": "2024-05-21T08:41:05.514505Z",
     "start_time": "2024-05-21T08:41:05.107067Z"
    }
   },
   "cell_type": "code",
   "source": [
    "\n",
    "correlations = df.corr()['attack'].drop('attack')\n",
    "correlations"
   ],
   "id": "d8af104f370a65fe",
   "outputs": [
    {
     "data": {
      "text/plain": [
       "duration                       0.134590\n",
       "protocol_type                  0.135203\n",
       "service                       -0.001797\n",
       "flag                           0.170749\n",
       "src_bytes                      0.011617\n",
       "dst_bytes                      0.007600\n",
       "land                          -0.017239\n",
       "wrong_fragment                 0.304125\n",
       "urgent                        -0.003513\n",
       "hot                            0.098611\n",
       "num_failed_logins             -0.024052\n",
       "logged_in                      0.104058\n",
       "num_compromised                0.000346\n",
       "root_shell                    -0.009355\n",
       "su_attempted                   0.004005\n",
       "num_root                       0.001718\n",
       "num_file_creations             0.003004\n",
       "num_shells                     0.000743\n",
       "num_access_files               0.005220\n",
       "num_outbound_cmds                   NaN\n",
       "is_host_login                  0.000400\n",
       "is_guest_login                 0.109112\n",
       "count                          0.060381\n",
       "srv_count                      0.310820\n",
       "serror_rate                   -0.361326\n",
       "srv_serror_rate               -0.368207\n",
       "rerror_rate                    0.099398\n",
       "srv_rerror_rate                0.098105\n",
       "same_srv_rate                  0.258357\n",
       "diff_srv_rate                  0.228558\n",
       "srv_diff_host_rate            -0.146615\n",
       "dst_host_count                 0.053869\n",
       "dst_host_srv_count             0.138849\n",
       "dst_host_same_srv_rate         0.073549\n",
       "dst_host_diff_srv_rate         0.295042\n",
       "dst_host_same_src_port_rate    0.202229\n",
       "dst_host_srv_diff_host_rate   -0.253815\n",
       "dst_host_serror_rate          -0.361694\n",
       "dst_host_srv_serror_rate      -0.368981\n",
       "dst_host_rerror_rate           0.108057\n",
       "dst_host_srv_rerror_rate       0.106217\n",
       "level                         -0.069451\n",
       "Name: attack, dtype: float64"
      ]
     },
     "execution_count": 26,
     "metadata": {},
     "output_type": "execute_result"
    }
   ],
   "execution_count": 26
  },
  {
   "metadata": {
    "ExecuteTime": {
     "end_time": "2024-05-21T08:41:05.915684Z",
     "start_time": "2024-05-21T08:41:05.515019Z"
    }
   },
   "cell_type": "code",
   "source": [
    "from joblib import dump\n",
    "\n",
    "# Train your SVC model\n",
    "# ... (your training code)\n",
    "\n",
    "# Save the model\n",
    "dump(model1, 'svc_model.joblib')\n",
    "\n",
    "print('Model saved successfully!')\n",
    "from tensorflow.keras.models import save_model  # For saving models\n",
    "\n",
    "# Save model\n",
    "dump(model, 'Model.h5')\n",
    "dump(model2, 'rf_model.joblib')\n",
    "dump(ensemble, 'Ensemble.joblib')\n",
    "\n",
    "print('All models saved successfully!')\n"
   ],
   "id": "eda904ba775bfbf5",
   "outputs": [
    {
     "name": "stdout",
     "output_type": "stream",
     "text": [
      "Model saved successfully!\n",
      "All models saved successfully!\n"
     ]
    }
   ],
   "execution_count": 27
  }
 ],
 "metadata": {
  "kernelspec": {
   "display_name": "Python 3",
   "language": "python",
   "name": "python3"
  },
  "language_info": {
   "codemirror_mode": {
    "name": "ipython",
    "version": 2
   },
   "file_extension": ".py",
   "mimetype": "text/x-python",
   "name": "python",
   "nbconvert_exporter": "python",
   "pygments_lexer": "ipython2",
   "version": "2.7.6"
  }
 },
 "nbformat": 4,
 "nbformat_minor": 5
}
